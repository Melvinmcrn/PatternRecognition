{
  "nbformat": 4,
  "nbformat_minor": 0,
  "metadata": {
    "colab": {
      "name": "HW4.ipynb",
      "provenance": [],
      "include_colab_link": true
    },
    "kernelspec": {
      "name": "python3",
      "display_name": "Python 3"
    },
    "accelerator": "GPU"
  },
  "cells": [
    {
      "cell_type": "markdown",
      "metadata": {
        "id": "view-in-github",
        "colab_type": "text"
      },
      "source": [
        "<a href=\"https://colab.research.google.com/github/Melvinmcrn/PatternRecognition/blob/master/HW4/HW4.ipynb\" target=\"_parent\"><img src=\"https://colab.research.google.com/assets/colab-badge.svg\" alt=\"Open In Colab\"/></a>"
      ]
    },
    {
      "cell_type": "markdown",
      "metadata": {
        "id": "kjRBQ9voFMYx",
        "colab_type": "text"
      },
      "source": [
        "# Precipitation Nowcasting using Neural Networks\n",
        "\n",
        "In this exercise, you are going to build a set of deep learning models on a real world task using Tensorflow and Keras. Tensorflow is a deep learning framwork developed by Google, and Keras is a frontend library built on top of Tensorflow (or Theano, CNTK) to provide an easier way to use standard layers and networks.\n",
        "\n",
        "## Setting up to use the gpu  \n",
        "\n",
        "Before we start, we need to change the environment of Colab to use GPU. Do so by:\n",
        "\n",
        "Runtime -> Change runtime type -> Hardware accelerator -> GPU"
      ]
    },
    {
      "cell_type": "markdown",
      "metadata": {
        "id": "aelm29BaFKuc",
        "colab_type": "text"
      },
      "source": [
        "## Deep Neural Networks with Keras ##\n",
        "\n",
        "To complete this exercise, you will need to build deep learning models for precipitation nowcasting. You will build a subset of the models shown below:\n",
        "- Fully Connected (Feedforward) Neural Network\n",
        "- Two-Dimentional Convolution Neural Network (2D-CNN)\n",
        "- Recurrent Neural Network with Gated Recurrent Unit (GRU)\n",
        "\n",
        "and one more model of your choice to achieve the highest score possible.\n",
        "\n",
        "We provide the code for data cleaning and some starter code for keras in this notebook but feel free to modify those parts to suit your needs. You can also complete this exercise using only Tensorflow (without using Keras). Feel free to use additional libraries (e.g. scikit-learn) as long as you have a model for each type mentioned above.\n",
        "\n",
        "This notebook assumes you have already installed Tensorflow and Keras with python3 and had GPU enabled. If you run this exercise on Colab you are all set."
      ]
    },
    {
      "cell_type": "markdown",
      "metadata": {
        "id": "zt5qwVJXFKue",
        "colab_type": "text"
      },
      "source": [
        "## Precipitation Nowcasting ##\n",
        "\n",
        "Precipitation nowcasting is the the task of predicting the amount of rainfall in a certain region given some kind of sensor data.  The term nowcasting refers to tasks that try to predict the current or near future conditions (within 6 hours). \n",
        "\n",
        "You will be given satellite images in 3 different bands covering a 5 by 5 region from different parts of Thailand. In other words, your input will be a 5x5x3 image. Your task is to predict the amount of rainfal in the center pixel. You will first do the prediction using just a simple fully-connected neural network that view each pixel as different input features.\n",
        "\n",
        "Since the your input is basically an image, we will then view the input as an image and apply CNN to do the prediction. Finally, we can also add a time component since weather prediction can benefit greatly using previous time frames. Each data point actually contain 5 time steps, so each input data point has a size of 5x5x5x3 (time x height x width x channel), and the output data has a size of 5 (time). You will use this time information when you work with RNNs.\n",
        "\n",
        "Finally, we would like to thank the Thai Meteorological Department for providing the data for this assignment."
      ]
    },
    {
      "cell_type": "markdown",
      "metadata": {
        "id": "nDQFOLhM5F2k",
        "colab_type": "text"
      },
      "source": [
        "## Loading the data\n",
        "Get the data set by going [here](https://drive.google.com/file/d/1NWR22fVVE0tO2Q5EbaPPrRKPhUem-jbw/view?usp=sharing) and click add to drive."
      ]
    },
    {
      "cell_type": "code",
      "metadata": {
        "id": "MpV236cQtYvt",
        "colab_type": "code",
        "outputId": "10b962a7-4c96-4bbe-f2cb-aee84d4194be",
        "colab": {
          "base_uri": "https://localhost:8080/",
          "height": 50
        }
      },
      "source": [
        "# tensorboard extension\n",
        "!pip install -q tf-nightly-2.0-preview\n",
        "%load_ext tensorboard"
      ],
      "execution_count": 0,
      "outputs": [
        {
          "output_type": "stream",
          "text": [
            "The tensorboard extension is already loaded. To reload it, use:\n",
            "  %reload_ext tensorboard\n"
          ],
          "name": "stdout"
        }
      ]
    },
    {
      "cell_type": "code",
      "metadata": {
        "id": "BYYloecSFKuf",
        "colab_type": "code",
        "outputId": "e22029aa-19f3-44b8-c3c9-bec5882616b5",
        "colab": {
          "base_uri": "https://localhost:8080/",
          "height": 34
        }
      },
      "source": [
        "import os\n",
        "import numpy as np\n",
        "import pickle\n",
        "import pandas as pd\n",
        "import matplotlib.pyplot as plt\n",
        "import urllib\n",
        "from sklearn import preprocessing\n",
        "\n",
        "import tensorflow as tf\n",
        "from tensorflow.keras.models import load_model\n",
        "\n",
        "tf.__version__"
      ],
      "execution_count": 0,
      "outputs": [
        {
          "output_type": "execute_result",
          "data": {
            "text/plain": [
              "'2.0.0-dev20191002'"
            ]
          },
          "metadata": {
            "tags": []
          },
          "execution_count": 9
        }
      ]
    },
    {
      "cell_type": "code",
      "metadata": {
        "id": "WYCGn6wkF4Y5",
        "colab_type": "code",
        "outputId": "3d0b073d-0aac-4aed-93ed-fa80c8ba7fca",
        "colab": {
          "base_uri": "https://localhost:8080/",
          "height": 34
        }
      },
      "source": [
        "from google.colab import drive\n",
        "drive.mount('/content/gdrive/')"
      ],
      "execution_count": 0,
      "outputs": [
        {
          "output_type": "stream",
          "text": [
            "Drive already mounted at /content/gdrive/; to attempt to forcibly remount, call drive.mount(\"/content/gdrive/\", force_remount=True).\n"
          ],
          "name": "stdout"
        }
      ]
    },
    {
      "cell_type": "code",
      "metadata": {
        "id": "ZwSDsVaNGbKa",
        "colab_type": "code",
        "outputId": "82487ea0-0c8b-46aa-fb29-01aecd5eab99",
        "colab": {
          "base_uri": "https://localhost:8080/",
          "height": 67
        }
      },
      "source": [
        "#!unzip '/content/gdrive/My Drive/dataset.zip'\n",
        "!tar -xvf '/content/gdrive/My Drive/Colab notebook/nowcastingHWdataset.tar.gz'\n",
        "#!tar -xvf '/content/gdrive/My Drive/pattern/pattern2018/homework/HW4/nowcastingHWdataset.tar.gz'\n",
        "!ls"
      ],
      "execution_count": 0,
      "outputs": [
        {
          "output_type": "stream",
          "text": [
            "tar: /content/gdrive/My Drive/Colab notebook/nowcastingHWdataset.tar.gz: Cannot open: No such file or directory\n",
            "tar: Error is not recoverable: exiting now\n",
            "dataset  gdrive  sample_data\n"
          ],
          "name": "stdout"
        }
      ]
    },
    {
      "cell_type": "markdown",
      "metadata": {
        "id": "syY5DXvFFKuj",
        "colab_type": "text"
      },
      "source": [
        "# Data Explanation #\n",
        "\n",
        "The data is an hourly measurement of water vapor in the atmosphere, and two infrared measurements of cloud imagery on a latitude-longitude coordinate. Each measurement is illustrated below as an image. These three features are included as different channels in your input data.\n",
        "\n",
        "<img src=\"https://raw.githubusercontent.com/burin-n/pattern-recognition/master/HW4/images/wvapor.png\" width=\"200\"> <img src=\"https://raw.githubusercontent.com/burin-n/pattern-recognition/master/HW4/images/cloud1.png\" width=\"200\"> <img src=\"https://raw.githubusercontent.com/burin-n/pattern-recognition/master/HW4/images/cloud2.png\" width=\"200\">\n",
        "\n",
        "We also provide the hourly precipitation (rainfall) records in the month of June, July, August, September, and October from weather stations spreaded around the country. A 5x5 grid around each weather station at a particular time will be paired with the precipitation recorded at the corresponding station as input and output data. Finally, five adjacent timesteps are stacked into one sequence.\n",
        "\n",
        "The month of June-August are provided as training data, while the months of September and October are used as validation and test sets, respectively.\n"
      ]
    },
    {
      "cell_type": "markdown",
      "metadata": {
        "id": "Z6ieaQpHFKuk",
        "colab_type": "text"
      },
      "source": [
        "# Reading data"
      ]
    },
    {
      "cell_type": "code",
      "metadata": {
        "id": "pg0gCg-DFKul",
        "colab_type": "code",
        "colab": {}
      },
      "source": [
        "def read_data(months, data_dir='dataset'):\n",
        "    features = np.array([], dtype=np.float32).reshape(0,5,5,5,3)\n",
        "    labels = np.array([], dtype=np.float32).reshape(0,5)\n",
        "    for m in months:\n",
        "        filename = 'features-m{}.pk'.format(m)\n",
        "        with open(os.path.join(data_dir,filename), 'rb') as file:\n",
        "            features_temp = pickle.load(file)\n",
        "        features = np.concatenate((features, features_temp), axis=0)\n",
        "        \n",
        "        filename = 'labels-m{}.pk'.format(m)\n",
        "        with open(os.path.join(data_dir,filename), 'rb') as file:\n",
        "            labels_temp = pickle.load(file)\n",
        "        labels = np.concatenate((labels, labels_temp), axis=0)\n",
        "\n",
        "    return features, labels"
      ],
      "execution_count": 0,
      "outputs": []
    },
    {
      "cell_type": "code",
      "metadata": {
        "id": "O3zFs-CXFKuo",
        "colab_type": "code",
        "outputId": "2e9f9311-b504-4f35-9506-fa5eaa2c3f4d",
        "colab": {
          "base_uri": "https://localhost:8080/",
          "height": 151
        }
      },
      "source": [
        "# use data from month 6,7,8 as training set\n",
        "x_train, y_train = read_data(months=[6,7,8])\n",
        "\n",
        "# use data from month 9 as validation set\n",
        "x_val, y_val = read_data(months=[9])\n",
        "\n",
        "# use data from month 10 as test set\n",
        "x_test, y_test = read_data(months=[10])\n",
        "\n",
        "print('x_train shape:',x_train.shape)\n",
        "print('y_train shape:', y_train.shape, '\\n')\n",
        "print('x_val shape:',x_val.shape)\n",
        "print('y_val shape:', y_val.shape, '\\n')\n",
        "print('x_test shape:',x_test.shape)\n",
        "print('y_test shape:', y_test.shape)"
      ],
      "execution_count": 0,
      "outputs": [
        {
          "output_type": "stream",
          "text": [
            "x_train shape: (229548, 5, 5, 5, 3)\n",
            "y_train shape: (229548, 5) \n",
            "\n",
            "x_val shape: (92839, 5, 5, 5, 3)\n",
            "y_val shape: (92839, 5) \n",
            "\n",
            "x_test shape: (111715, 5, 5, 5, 3)\n",
            "y_test shape: (111715, 5)\n"
          ],
          "name": "stdout"
        }
      ]
    },
    {
      "cell_type": "markdown",
      "metadata": {
        "id": "pW6GD-8-FKur",
        "colab_type": "text"
      },
      "source": [
        "**features** \n",
        "- dim 0: number of entries\n",
        "- dim 1: number of time-steps in ascending order\n",
        "- dim 2,3: a 5x5 grid around rain-measued station\n",
        "- dim 4: water vapor and two cloud imagenaries \n",
        "\n",
        "**labels**\n",
        "- dim 0: number of entries\n",
        "- dim 1: number of precipitation for each time-step"
      ]
    },
    {
      "cell_type": "code",
      "metadata": {
        "id": "DCKaJISBFKus",
        "colab_type": "code",
        "colab": {}
      },
      "source": [
        "def normalizer_std(X):\n",
        "    scaler = preprocessing.StandardScaler().fit(X)\n",
        "    return scaler\n",
        "\n",
        "def normalizer_minmax(X):\n",
        "    scaler = preprocessing.MinMaxScaler().fit(X)\n",
        "    return scaler"
      ],
      "execution_count": 0,
      "outputs": []
    },
    {
      "cell_type": "markdown",
      "metadata": {
        "id": "FnNVxatKFKuy",
        "colab_type": "text"
      },
      "source": [
        "# Three-Layer Feedforward Neural Networks\n",
        "\n",
        "Below, the code for creating a 3-layers fully connected neural network in keras is provided. Run the code and make sure you understand what you are doing. Then, report the results."
      ]
    },
    {
      "cell_type": "code",
      "metadata": {
        "id": "OGB0Jhk3FKuz",
        "colab_type": "code",
        "outputId": "4628fc37-f036-427b-9390-82083e81c45e",
        "colab": {
          "base_uri": "https://localhost:8080/",
          "height": 50
        }
      },
      "source": [
        "# Dataset need to be reshaped to make it suitable for feedforword model\n",
        "def preprocess_for_ff(x_train, y_train, x_val, y_val):\n",
        "    x_train_ff = x_train.reshape((-1, 5*5*3))\n",
        "    y_train_ff = y_train.reshape((-1, 1))\n",
        "    x_val_ff = x_val.reshape((-1, 5*5*3))\n",
        "    y_val_ff = y_val.reshape((-1, 1))\n",
        "    x_scaler = normalizer_std(x_train_ff)\n",
        "    x_train_ff = x_scaler.transform(x_train_ff)\n",
        "    x_val_ff = x_scaler.transform(x_val_ff)\n",
        "    return x_train_ff, y_train_ff, x_val_ff, y_val_ff\n",
        "\n",
        "x_train_ff, y_train_ff, x_val_ff, y_val_ff = preprocess_for_ff(x_train, y_train, x_val, y_val)\n",
        "print(x_train_ff.shape, y_train_ff.shape)\n",
        "print(x_val_ff.shape, y_val_ff.shape)"
      ],
      "execution_count": 0,
      "outputs": [
        {
          "output_type": "stream",
          "text": [
            "(1147740, 75) (1147740, 1)\n",
            "(464195, 75) (464195, 1)\n"
          ],
          "name": "stdout"
        }
      ]
    },
    {
      "cell_type": "markdown",
      "metadata": {
        "id": "p77LrAbilkK7",
        "colab_type": "text"
      },
      "source": [
        "Explain each line of code in the function preprocess_for_ff()\n",
        "\n",
        "**Ans:** <br>\n",
        "บรรทัดที่ 1-4 เป็นการ reshape เพื่อให้สามารถใช้ feedforward model ได้<br>\n",
        "บรรทัดที่ 5 เป็นการ normalize ตัว train data<br>\n",
        "บรรทัดที่ 6-7 เป็นการ transform ตัว train data<br>\n",
        "\n"
      ]
    },
    {
      "cell_type": "code",
      "metadata": {
        "id": "ddS--sUaFKu3",
        "colab_type": "code",
        "colab": {}
      },
      "source": [
        "from tensorflow.keras.layers import Dense, Input\n",
        "from tensorflow.keras.models import Model\n",
        "from tensorflow.keras.optimizers import Adam\n",
        "\n",
        "\n",
        "def get_feedforward_nn():    \n",
        "    input1 = Input(shape=(75,))    \n",
        "    x = Dense(200, activation='relu')(input1)    \n",
        "    x = Dense(200, activation='relu')(x)\n",
        "    x = Dense(200, activation='relu')(x)\n",
        "    out = Dense(1)(x)\n",
        "\n",
        "    model = Model(inputs=input1, outputs=out)\n",
        "    model.compile(optimizer=Adam(0.01),\n",
        "                loss='mse',\n",
        "                metrics=['mse'])\n",
        "\n",
        "    return model"
      ],
      "execution_count": 0,
      "outputs": []
    },
    {
      "cell_type": "markdown",
      "metadata": {
        "id": "oz8m8ijkmUdU",
        "colab_type": "text"
      },
      "source": [
        "What is the activation function in the final dense layer? and why?\n",
        "\n",
        "**Ans:**<br>\n",
        "reLu เพราะว่าปริมาณน้ำฝนจะมีค่า >= 0 เสมอ\n",
        "\n",
        "Why is the loss MSE?\n",
        "\n",
        "**Ans:**<br>\n",
        "เพราะเราต้องการรู้ว่าค่าที่ทำนายออกมาต่างจากความเป็นจริงมากน้อยแค่ไหน"
      ]
    },
    {
      "cell_type": "code",
      "metadata": {
        "id": "-merQMZ3FKu6",
        "colab_type": "code",
        "outputId": "9eef1075-a415-471d-d7f9-65c99cc31b04",
        "colab": {
          "base_uri": "https://localhost:8080/",
          "height": 319
        }
      },
      "source": [
        "from tensorflow.keras import backend as K\n",
        "# This is called to clear the original model session in order to use TensorBoard\n",
        "K.clear_session()\n",
        "\n",
        "model_ff = get_feedforward_nn()\n",
        "# .summary provies an overview of the model\n",
        "model_ff.summary()"
      ],
      "execution_count": 0,
      "outputs": [
        {
          "output_type": "stream",
          "text": [
            "Model: \"model\"\n",
            "_________________________________________________________________\n",
            "Layer (type)                 Output Shape              Param #   \n",
            "=================================================================\n",
            "input_1 (InputLayer)         [(None, 75)]              0         \n",
            "_________________________________________________________________\n",
            "dense (Dense)                (None, 200)               15200     \n",
            "_________________________________________________________________\n",
            "dense_1 (Dense)              (None, 200)               40200     \n",
            "_________________________________________________________________\n",
            "dense_2 (Dense)              (None, 200)               40200     \n",
            "_________________________________________________________________\n",
            "dense_3 (Dense)              (None, 1)                 201       \n",
            "=================================================================\n",
            "Total params: 95,801\n",
            "Trainable params: 95,801\n",
            "Non-trainable params: 0\n",
            "_________________________________________________________________\n"
          ],
          "name": "stdout"
        }
      ]
    },
    {
      "cell_type": "markdown",
      "metadata": {
        "id": "EfnyZsPlmJW7",
        "colab_type": "text"
      },
      "source": [
        "Explain why dense_1 has 15200 parameters\n",
        "\n",
        "**Ans:** <br>\n",
        "เพราะมาจาก input จาก Layer ก่อนหน้ามีขนาด 75 และจาก Layer ปัจจุบันมีขนาด 200 ออกมาได้ 15,000 และ + bias เข้าไปอีก 200 จะได้ 15,200"
      ]
    },
    {
      "cell_type": "code",
      "metadata": {
        "id": "NRe8Rvt-FKu-",
        "colab_type": "code",
        "outputId": "8d32b79a-93f1-4055-c9fa-fc366b67922b",
        "colab": {
          "base_uri": "https://localhost:8080/",
          "height": 739
        }
      },
      "source": [
        "from tensorflow.keras.callbacks import ModelCheckpoint, TensorBoard, ReduceLROnPlateau\n",
        "\n",
        "print('start training ff')\n",
        "\n",
        "# Path to save model parameters\n",
        "weight_path_model_ff ='model_ff_nn.h5'\n",
        "# Path to write tensorboard\n",
        "tensorboard_path_model_ff = 'Graphs/ff_nn'\n",
        "\n",
        "callbacks_list_model_ff_nn = [\n",
        "    TensorBoard(log_dir=tensorboard_path_model_ff, histogram_freq=1, write_graph=True, write_grads=True),\n",
        "    ModelCheckpoint(\n",
        "            weight_path_model_ff,\n",
        "            save_best_only=True,\n",
        "            save_weights_only=True,\n",
        "            monitor='val_loss',\n",
        "            mode='min',\n",
        "            verbose=1\n",
        "        ),\n",
        "    ReduceLROnPlateau(monitor='val_loss', factor=0.2, patience=2, min_lr=0.0001)\n",
        "]\n",
        "\n",
        "verbose = 1\n",
        "epochs, batch_size = [10,1024]\n",
        "\n",
        "history_ff = model_ff.fit(x_train_ff, y_train_ff, epochs=epochs, batch_size=batch_size, verbose=verbose,\n",
        "                callbacks=callbacks_list_model_ff_nn, validation_data=(x_val_ff, y_val_ff))"
      ],
      "execution_count": 0,
      "outputs": [
        {
          "output_type": "stream",
          "text": [
            "start training ff\n",
            "WARNING:tensorflow:`write_grads` will be ignored in TensorFlow 2.0 for the `TensorBoard` Callback.\n",
            "Train on 1147740 samples, validate on 464195 samples\n",
            "Epoch 1/10\n",
            "1146880/1147740 [============================>.] - ETA: 0s - loss: 1.9915 - mse: 1.9915\n",
            "Epoch 00001: val_loss improved from inf to 1.66080, saving model to model_ff_nn.h5\n",
            "1147740/1147740 [==============================] - 26s 23us/sample - loss: 1.9910 - mse: 1.9910 - val_loss: 1.6608 - val_mse: 1.6608\n",
            "Epoch 2/10\n",
            "1144832/1147740 [============================>.] - ETA: 0s - loss: 1.9225 - mse: 1.9225\n",
            "Epoch 00002: val_loss improved from 1.66080 to 1.65934, saving model to model_ff_nn.h5\n",
            "1147740/1147740 [==============================] - 25s 22us/sample - loss: 1.9214 - mse: 1.9214 - val_loss: 1.6593 - val_mse: 1.6593\n",
            "Epoch 3/10\n",
            "1146880/1147740 [============================>.] - ETA: 0s - loss: 1.9212 - mse: 1.9212\n",
            "Epoch 00003: val_loss did not improve from 1.65934\n",
            "1147740/1147740 [==============================] - 23s 20us/sample - loss: 1.9202 - mse: 1.9202 - val_loss: 1.6608 - val_mse: 1.6608\n",
            "Epoch 4/10\n",
            "1145856/1147740 [============================>.] - ETA: 0s - loss: 1.9226 - mse: 1.9226\n",
            "Epoch 00004: val_loss did not improve from 1.65934\n",
            "1147740/1147740 [==============================] - 23s 20us/sample - loss: 1.9202 - mse: 1.9202 - val_loss: 1.6611 - val_mse: 1.6611\n",
            "Epoch 5/10\n",
            "1145856/1147740 [============================>.] - ETA: 0s - loss: 1.9197 - mse: 1.9197\n",
            "Epoch 00005: val_loss did not improve from 1.65934\n",
            "1147740/1147740 [==============================] - 23s 20us/sample - loss: 1.9197 - mse: 1.9197 - val_loss: 1.6601 - val_mse: 1.6601\n",
            "Epoch 6/10\n",
            "1145856/1147740 [============================>.] - ETA: 0s - loss: 1.9193 - mse: 1.9193\n",
            "Epoch 00006: val_loss did not improve from 1.65934\n",
            "1147740/1147740 [==============================] - 23s 20us/sample - loss: 1.9192 - mse: 1.9192 - val_loss: 1.6600 - val_mse: 1.6600\n",
            "Epoch 7/10\n",
            "1146880/1147740 [============================>.] - ETA: 0s - loss: 1.9200 - mse: 1.9200\n",
            "Epoch 00007: val_loss did not improve from 1.65934\n",
            "1147740/1147740 [==============================] - 22s 20us/sample - loss: 1.9188 - mse: 1.9188 - val_loss: 1.6595 - val_mse: 1.6595\n",
            "Epoch 8/10\n",
            "1146880/1147740 [============================>.] - ETA: 0s - loss: 1.9193 - mse: 1.9193\n",
            "Epoch 00008: val_loss did not improve from 1.65934\n",
            "1147740/1147740 [==============================] - 23s 20us/sample - loss: 1.9188 - mse: 1.9188 - val_loss: 1.6595 - val_mse: 1.6595\n",
            "Epoch 9/10\n",
            "1146880/1147740 [============================>.] - ETA: 0s - loss: 1.9191 - mse: 1.9191\n",
            "Epoch 00009: val_loss did not improve from 1.65934\n",
            "1147740/1147740 [==============================] - 23s 20us/sample - loss: 1.9187 - mse: 1.9187 - val_loss: 1.6594 - val_mse: 1.6594\n",
            "Epoch 10/10\n",
            "1146880/1147740 [============================>.] - ETA: 0s - loss: 1.9189 - mse: 1.9189\n",
            "Epoch 00010: val_loss improved from 1.65934 to 1.65907, saving model to model_ff_nn.h5\n",
            "1147740/1147740 [==============================] - 23s 20us/sample - loss: 1.9185 - mse: 1.9185 - val_loss: 1.6591 - val_mse: 1.6591\n"
          ],
          "name": "stdout"
        }
      ]
    },
    {
      "cell_type": "markdown",
      "metadata": {
        "id": "_K4fRDrLmsVI",
        "colab_type": "text"
      },
      "source": [
        "history_ff tracks many useful information. Checkout what is included by running the code below."
      ]
    },
    {
      "cell_type": "code",
      "metadata": {
        "id": "gR8tDONfmzvC",
        "colab_type": "code",
        "outputId": "e547a806-564b-40a2-d9d6-d23ef55e393c",
        "colab": {
          "base_uri": "https://localhost:8080/",
          "height": 34
        }
      },
      "source": [
        "print(history_ff.history.keys())"
      ],
      "execution_count": 0,
      "outputs": [
        {
          "output_type": "stream",
          "text": [
            "dict_keys(['loss', 'mse', 'val_loss', 'val_mse', 'lr'])\n"
          ],
          "name": "stdout"
        }
      ]
    },
    {
      "cell_type": "markdown",
      "metadata": {
        "id": "PeXGk-wHm9Nj",
        "colab_type": "text"
      },
      "source": [
        "We can track many of the parameters using the history. Plot loss, mean_squared_error, val_mean_squared_error, and val_loss as a function of epochs."
      ]
    },
    {
      "cell_type": "code",
      "metadata": {
        "id": "NSfIZE2W2Atr",
        "colab_type": "code",
        "outputId": "b16ac91f-69a5-4408-a6aa-8e33a7f4a1c8",
        "colab": {
          "base_uri": "https://localhost:8080/",
          "height": 1000
        }
      },
      "source": [
        "## TODO#1 ##\n",
        "train_loss = history_ff.history['loss']\n",
        "train_mse = history_ff.history['mse']\n",
        "val_loss = history_ff.history['val_loss']\n",
        "val_mse = history_ff.history['val_mse']\n",
        "\n",
        "plt.plot(train_loss)\n",
        "plt.title('train loss')\n",
        "plt.ylabel('loss')\n",
        "plt.xlabel('epoch')\n",
        "plt.show()\n",
        "\n",
        "plt.plot(train_mse)\n",
        "plt.title('train MSE')\n",
        "plt.ylabel('loss')\n",
        "plt.xlabel('epoch')\n",
        "plt.show()\n",
        "\n",
        "plt.plot(val_loss)\n",
        "plt.title('val loss')\n",
        "plt.ylabel('loss')\n",
        "plt.xlabel('epoch')\n",
        "plt.show()\n",
        "\n",
        "plt.plot(val_mse)\n",
        "plt.title('val MSE')\n",
        "plt.ylabel('loss')\n",
        "plt.xlabel('epoch')\n",
        "plt.show()"
      ],
      "execution_count": 0,
      "outputs": [
        {
          "output_type": "display_data",
          "data": {
            "image/png": "[encoded data removed]",
            "text/plain": [
              "<Figure size 432x288 with 1 Axes>"
            ]
          },
          "metadata": {
            "tags": []
          }
        },
        {
          "output_type": "display_data",
          "data": {
            "image/png": "[encoded data removed]",
            "text/plain": [
              "<Figure size 432x288 with 1 Axes>"
            ]
          },
          "metadata": {
            "tags": []
          }
        },
        {
          "output_type": "display_data",
          "data": {
            "image/png": "[encoded data removed]",
            "text/plain": [
              "<Figure size 432x288 with 1 Axes>"
            ]
          },
          "metadata": {
            "tags": []
          }
        },
        {
          "output_type": "display_data",
          "data": {
            "image/png": "[encoded data removed]",
            "text/plain": [
              "<Figure size 432x288 with 1 Axes>"
            ]
          },
          "metadata": {
            "tags": []
          }
        }
      ]
    },
    {
      "cell_type": "markdown",
      "metadata": {
        "id": "VPpjHMTNogW1",
        "colab_type": "text"
      },
      "source": [
        "<details>\n",
        "    <summary>PARTIAL SOLUTION HERE!</summary>\n",
        "      <pre>\n",
        "        <code>\n",
        "train_loss = history_ff.history['loss']\n",
        "train_mse = history_ff.history['mean_squared_error']\n",
        "val_loss = history_ff.history['val_loss']\n",
        "val_mse = history_ff.history['val_mean_squared_error']\n",
        "\n",
        "plt.plot(train_loss)\n",
        "plt.title('train loss (MSE)')\n",
        "plt.ylabel('loss')\n",
        "plt.xlabel('epoch')\n",
        "plt.show()\n",
        "        </code>\n",
        "      </pre>\n",
        "</details>"
      ]
    },
    {
      "cell_type": "markdown",
      "metadata": {
        "id": "jXmuk1a2nRSA",
        "colab_type": "text"
      },
      "source": [
        "When does the model start to overfit?\n",
        "\n",
        "**Ans:**<br>\n",
        "เมื่อ train loss เริ่มมีค่าลดลงเรื่อยๆ แต่ val loss มีค่าเพิ่มขึ้น"
      ]
    },
    {
      "cell_type": "markdown",
      "metadata": {
        "id": "UXQgJYrTne0o",
        "colab_type": "text"
      },
      "source": [
        "Plot the learning rate as a function of the epochs."
      ]
    },
    {
      "cell_type": "code",
      "metadata": {
        "id": "i5ZdGDjJnka7",
        "colab_type": "code",
        "outputId": "276ebcbb-ad9b-4618-92fa-7b82061e22db",
        "colab": {
          "base_uri": "https://localhost:8080/",
          "height": 295
        }
      },
      "source": [
        "## TODO#2 ##\n",
        "lr = history_ff.history['lr']\n",
        "\n",
        "plt.plot(lr)\n",
        "plt.title('Learning Rate')\n",
        "plt.ylabel('Learning Rate')\n",
        "plt.xlabel('epoch')\n",
        "plt.show()"
      ],
      "execution_count": 0,
      "outputs": [
        {
          "output_type": "display_data",
          "data": {
            "image/png": "[encoded data removed]",
            "text/plain": [
              "<Figure size 432x288 with 1 Axes>"
            ]
          },
          "metadata": {
            "tags": []
          }
        }
      ]
    },
    {
      "cell_type": "markdown",
      "metadata": {
        "id": "mKjTiHm4o4ba",
        "colab_type": "text"
      },
      "source": [
        "What makes the learning rate change?\n",
        "(hint: look at the callback [ReduceLROnPlateau](https://keras.io/callbacks/#reducelronplateau))\n",
        "\n",
        "\n",
        "**Ans:**<br>\n",
        "ค่า factor ซึ่งคือ 0.2 ซึ่ง new learning rate = 0.2 * learning rate <br>\n",
        "ค่า patience คือจำนวนอย่างน้อยของ epoch ที่ loss มากขึ้น แล้วจึงจะคูณ factor เข้าไปเพื่อปรับ lr"
      ]
    },
    {
      "cell_type": "code",
      "metadata": {
        "id": "ymW77BubFKvC",
        "colab_type": "code",
        "colab": {}
      },
      "source": [
        "################################################################################\n",
        "# TODO#3:                                                                      #\n",
        "# Write a function to evaluate your model. Your function must make prediction  #\n",
        "# using the input model and return mean square error of the model.             #\n",
        "#                                                                              #\n",
        "# Hint: https://keras.io/models/model#evaluate                                 #\n",
        "################################################################################\n",
        "#                            WRITE YOUR CODE BELOW                             #\n",
        "################################################################################\n",
        "def evaluate(features, labels, model):\n",
        "    \"\"\"\n",
        "    Evaluate model on validation data\n",
        "    \"\"\"\n",
        "    # write code here (one line)\n",
        "    mse = model.evaluate(x=features, y=labels, verbose=0, batch_size=1024)[1]\n",
        "    \n",
        "    return mse"
      ],
      "execution_count": 0,
      "outputs": []
    },
    {
      "cell_type": "code",
      "metadata": {
        "id": "w7t7ks7vFKvF",
        "colab_type": "code",
        "colab": {}
      },
      "source": [
        "# We will use majority rule as a baseline.\n",
        "def majority_baseline(label_set):\n",
        "    unique, counts = np.unique(label_set, return_counts=True)\n",
        "    majority = unique[np.argmax(counts)]\n",
        "    baseline = 0\n",
        "    label_set = label_set.reshape(-1,1)\n",
        "    for r in label_set:\n",
        "        baseline += (majority - r) ** 2 / len(label_set)\n",
        "    return baseline"
      ],
      "execution_count": 0,
      "outputs": []
    },
    {
      "cell_type": "code",
      "metadata": {
        "id": "v_QU7h4lFKvJ",
        "colab_type": "code",
        "outputId": "ae20da4d-5f07-4428-c7ab-ea5b4e109fb6",
        "colab": {
          "base_uri": "https://localhost:8080/",
          "height": 67
        }
      },
      "source": [
        "print('baseline')\n",
        "print('train', majority_baseline(y_train))\n",
        "print('validate', majority_baseline(y_val))"
      ],
      "execution_count": 0,
      "outputs": [
        {
          "output_type": "stream",
          "text": [
            "baseline\n",
            "train [1.94397725]\n",
            "validate [1.6746546]\n"
          ],
          "name": "stdout"
        }
      ]
    },
    {
      "cell_type": "code",
      "metadata": {
        "id": "VUvyWwLeceIz",
        "colab_type": "code",
        "outputId": "41fffd10-18da-4154-c215-7aa35cc2178d",
        "colab": {
          "base_uri": "https://localhost:8080/",
          "height": 67
        }
      },
      "source": [
        "print('FF-model')\n",
        "print('train', evaluate(x_train_ff, y_train_ff, model_ff))\n",
        "print('validate', evaluate(x_val_ff, y_val_ff, model_ff))"
      ],
      "execution_count": 0,
      "outputs": [
        {
          "output_type": "stream",
          "text": [
            "FF-model\n",
            "train 1.9184211\n",
            "validate 1.6590701\n"
          ],
          "name": "stdout"
        }
      ]
    },
    {
      "cell_type": "markdown",
      "metadata": {
        "id": "2JguJELuFKvL",
        "colab_type": "text"
      },
      "source": [
        "# (Optional) Tensorboard #\n",
        "The code provided also have Tensorboard (a visualization tool that comes with Tensorflow). Note the part that calls it `TensorBoard(log_dir='./Graph/' + graph_name, histogram_freq=1, write_graph=True, write_grads=True)`. This tells Tensorflow to write extra outputs to the `log_dir` which can then be used for visualization.\n",
        "\n",
        "To use Tensorboard follow the guide [here](https://medium.com/@tommytao_54597/use-tensorboard-in-google-colab-16b4bb9812a6)\n",
        "\n",
        "In Tensorboard, you will be able to debug your computation graph which can be hard to keep track in code. This is might seem trivial in Keras, but it is very helpful for Tensorflow. You can see a visualization of the computation graph at the `GRAPH` tab. If you see multiple dense layers (more than 4), this is caused by running the code several times without deleting the log dir. Delete the log dir and re-run the code.\n",
        "\n",
        "Next, let's look at the scalars tab, we can see the loss and accuracy on the training and validation set as they change over each epoch. This can be useful to detect overfitting.\n",
        "\n",
        "Another useful tab is the histograms tab. This plot histograms of the weights, biases, and outputs of each layer. The depth of the histograms show the change over epochs. We can see how the histograms of weights change over the training peroid. This can be used to debug vanishing gradients or getting stuck in local minimas.\n",
        "\n",
        "There are other useful tabs in Tensorboard, you can read about them in the Keras [documentation](https://keras.io/callbacks/#tensorboard) for tensorboard."
      ]
    },
    {
      "cell_type": "code",
      "metadata": {
        "id": "Ww980aW6GY_9",
        "colab_type": "code",
        "outputId": "ba17187f-934e-4eb8-e110-acb2cfa74d6c",
        "colab": {
          "base_uri": "https://localhost:8080/",
          "height": 319
        }
      },
      "source": [
        "# Graphs/ff_nn is a path of tensorboard_path_model_ff\n",
        "# %tensorboard --logdir Graphs/ff_nn"
      ],
      "execution_count": 0,
      "outputs": [
        {
          "output_type": "display_data",
          "data": {
            "text/plain": [
              "ERROR: Failed to launch TensorBoard (exited with 1).\n",
              "Contents of stderr:\n",
              "Traceback (most recent call last):\n",
              "  File \"/usr/local/bin/tensorboard\", line 8, in <module>\n",
              "    sys.exit(run_main())\n",
              "  File \"/usr/local/lib/python3.6/dist-packages/tensorboard/main.py\", line 59, in run_main\n",
              "    default.get_plugins() + default.get_dynamic_plugins(),\n",
              "  File \"/usr/local/lib/python3.6/dist-packages/tensorboard/default.py\", line 110, in get_dynamic_plugins\n",
              "    for entry_point in pkg_resources.iter_entry_points('tensorboard_plugins')\n",
              "  File \"/usr/local/lib/python3.6/dist-packages/tensorboard/default.py\", line 110, in <listcomp>\n",
              "    for entry_point in pkg_resources.iter_entry_points('tensorboard_plugins')\n",
              "  File \"/usr/local/lib/python3.6/dist-packages/pkg_resources/__init__.py\", line 2442, in load\n",
              "    self.require(*args, **kwargs)\n",
              "  File \"/usr/local/lib/python3.6/dist-packages/pkg_resources/__init__.py\", line 2465, in require\n",
              "    items = working_set.resolve(reqs, env, installer, extras=self.extras)\n",
              "  File \"/usr/local/lib/python3.6/dist-packages/pkg_resources/__init__.py\", line 791, in resolve\n",
              "    raise VersionConflict(dist, req).with_context(dependent_req)\n",
              "pkg_resources.VersionConflict: (grpcio 1.15.0 (/usr/local/lib/python3.6/dist-packages), Requirement.parse('grpcio>=1.24.3'))"
            ]
          },
          "metadata": {
            "tags": []
          }
        }
      ]
    },
    {
      "cell_type": "markdown",
      "metadata": {
        "id": "3TUMxeJvFKvM",
        "colab_type": "text"
      },
      "source": [
        "# Tensorboard observation #\n",
        "\n",
        "**Optional TODO#1** Write your own interpretation of the logs from this example. A simple sentence or two for each tab is sufficient.\n",
        "\n",
        "**Your answer:** "
      ]
    },
    {
      "cell_type": "markdown",
      "metadata": {
        "id": "w0Ynr3VgFKvN",
        "colab_type": "text"
      },
      "source": [
        "# Dropout #\n",
        "\n",
        "You might notice that the 3-layered feedforward does not use dropout at all. Now, try adding dropout (dropout rate of 20%) to the model, run, and report the result again."
      ]
    },
    {
      "cell_type": "code",
      "metadata": {
        "id": "_oGy_DDvX5k6",
        "colab_type": "code",
        "colab": {}
      },
      "source": [
        "# Run this code just in case to clear the session of tensorflow\n",
        "K.clear_session()"
      ],
      "execution_count": 0,
      "outputs": []
    },
    {
      "cell_type": "code",
      "metadata": {
        "id": "rbnMbqT7FKvO",
        "colab_type": "code",
        "colab": {}
      },
      "source": [
        "################################################################################\n",
        "# TODO#4:                                                                      #\n",
        "# Write a function that return feedforward model with dropout                  #\n",
        "################################################################################\n",
        "#                            WRITE YOUR CODE BELOW                             #\n",
        "################################################################################\n",
        "from tensorflow.keras.layers import Dropout\n",
        "def get_fully_connected_with_dropout():\n",
        "    #enter code below\n",
        "        \n",
        "    input1 = Input(shape=(75,))    \n",
        "    x = Dense(200, activation='relu')(input1)\n",
        "    x = Dropout(0.2)(x)\n",
        "    x = Dense(200, activation='relu')(x)\n",
        "    x = Dropout(0.2)(x)\n",
        "    x = Dense(200, activation='relu')(x)\n",
        "    out = Dense(1)(x)\n",
        "\n",
        "    model = Model(inputs=input1, outputs=out)\n",
        "    model.compile(optimizer=Adam(0.01),\n",
        "                loss='mse',\n",
        "                metrics=['mse'])\n",
        "\n",
        "\n",
        "    return model"
      ],
      "execution_count": 0,
      "outputs": []
    },
    {
      "cell_type": "code",
      "metadata": {
        "id": "f64eu3E0FKvQ",
        "colab_type": "code",
        "outputId": "c254d0f0-3eab-4960-bb66-58c02844ce1c",
        "colab": {
          "base_uri": "https://localhost:8080/",
          "height": 386
        }
      },
      "source": [
        "model_ff_dropout = get_fully_connected_with_dropout()\n",
        "model_ff_dropout.summary()"
      ],
      "execution_count": 0,
      "outputs": [
        {
          "output_type": "stream",
          "text": [
            "Model: \"model\"\n",
            "_________________________________________________________________\n",
            "Layer (type)                 Output Shape              Param #   \n",
            "=================================================================\n",
            "input_1 (InputLayer)         [(None, 75)]              0         \n",
            "_________________________________________________________________\n",
            "dense (Dense)                (None, 200)               15200     \n",
            "_________________________________________________________________\n",
            "dropout (Dropout)            (None, 200)               0         \n",
            "_________________________________________________________________\n",
            "dense_1 (Dense)              (None, 200)               40200     \n",
            "_________________________________________________________________\n",
            "dropout_1 (Dropout)          (None, 200)               0         \n",
            "_________________________________________________________________\n",
            "dense_2 (Dense)              (None, 200)               40200     \n",
            "_________________________________________________________________\n",
            "dense_3 (Dense)              (None, 1)                 201       \n",
            "=================================================================\n",
            "Total params: 95,801\n",
            "Trainable params: 95,801\n",
            "Non-trainable params: 0\n",
            "_________________________________________________________________\n"
          ],
          "name": "stdout"
        }
      ]
    },
    {
      "cell_type": "code",
      "metadata": {
        "id": "TJHG3fvMFKvU",
        "colab_type": "code",
        "outputId": "f5877c40-33c3-42e1-f2b7-14903ed59287",
        "colab": {
          "base_uri": "https://localhost:8080/",
          "height": 739
        }
      },
      "source": [
        "################################################################################\n",
        "# TODO#5:                                                                      #\n",
        "# Complete the code to train your dropout model                                #\n",
        "################################################################################\n",
        "#                            WRITE YOUR CODE BELOW                             #\n",
        "################################################################################\n",
        "print('start training ff dropout')\n",
        "\n",
        "# Path to save model parameters\n",
        "weight_path_model_ff_dropout ='model_ff_nn.h5'\n",
        "# Path to write tensorboard\n",
        "tensorboard_path_model_ff_dropout = 'Graphs/ff_nn'\n",
        "\n",
        "callbacks_list_model_ff_dropout_nn = [\n",
        "    TensorBoard(log_dir=tensorboard_path_model_ff_dropout, histogram_freq=1, write_graph=True, write_grads=True),\n",
        "    ModelCheckpoint(\n",
        "            weight_path_model_ff,\n",
        "            save_best_only=True,\n",
        "            save_weights_only=True,\n",
        "            monitor='val_loss',\n",
        "            mode='min',\n",
        "            verbose=1\n",
        "        ),\n",
        "    ReduceLROnPlateau(monitor='val_loss', factor=0.2, patience=2, min_lr=0.0001)\n",
        "]\n",
        "\n",
        "verbose = 1\n",
        "epochs, batch_size = [10,1024]\n",
        "\n",
        "history_ff_dropout = model_ff_dropout.fit(x_train_ff, y_train_ff, epochs=epochs, batch_size=batch_size, verbose=verbose,\n",
        "                callbacks=callbacks_list_model_ff_dropout_nn, validation_data=(x_val_ff, y_val_ff))"
      ],
      "execution_count": 0,
      "outputs": [
        {
          "output_type": "stream",
          "text": [
            "start training ff dropout\n",
            "WARNING:tensorflow:`write_grads` will be ignored in TensorFlow 2.0 for the `TensorBoard` Callback.\n",
            "Train on 1147740 samples, validate on 464195 samples\n",
            "Epoch 1/10\n",
            "1146880/1147740 [============================>.] - ETA: 0s - loss: 1.9844 - mse: 1.9844\n",
            "Epoch 00001: val_loss improved from inf to 1.66484, saving model to model_ff_nn.h5\n",
            "1147740/1147740 [==============================] - 31s 27us/sample - loss: 1.9839 - mse: 1.9839 - val_loss: 1.6648 - val_mse: 1.6648\n",
            "Epoch 2/10\n",
            "1146880/1147740 [============================>.] - ETA: 0s - loss: 1.9226 - mse: 1.9226\n",
            "Epoch 00002: val_loss improved from 1.66484 to 1.66036, saving model to model_ff_nn.h5\n",
            "1147740/1147740 [==============================] - 30s 26us/sample - loss: 1.9229 - mse: 1.9229 - val_loss: 1.6604 - val_mse: 1.6604\n",
            "Epoch 3/10\n",
            "1145856/1147740 [============================>.] - ETA: 0s - loss: 1.9166 - mse: 1.9166\n",
            "Epoch 00003: val_loss did not improve from 1.66036\n",
            "1147740/1147740 [==============================] - 30s 26us/sample - loss: 1.9206 - mse: 1.9206 - val_loss: 1.6610 - val_mse: 1.6610\n",
            "Epoch 4/10\n",
            "1145856/1147740 [============================>.] - ETA: 0s - loss: 1.9210 - mse: 1.9210\n",
            "Epoch 00004: val_loss improved from 1.66036 to 1.65992, saving model to model_ff_nn.h5\n",
            "1147740/1147740 [==============================] - 30s 26us/sample - loss: 1.9212 - mse: 1.9213 - val_loss: 1.6599 - val_mse: 1.6599\n",
            "Epoch 5/10\n",
            "1146880/1147740 [============================>.] - ETA: 0s - loss: 1.9215 - mse: 1.9215\n",
            "Epoch 00005: val_loss did not improve from 1.65992\n",
            "1147740/1147740 [==============================] - 30s 26us/sample - loss: 1.9206 - mse: 1.9206 - val_loss: 1.6619 - val_mse: 1.6619\n",
            "Epoch 6/10\n",
            "1145856/1147740 [============================>.] - ETA: 0s - loss: 1.9202 - mse: 1.9202\n",
            "Epoch 00006: val_loss did not improve from 1.65992\n",
            "1147740/1147740 [==============================] - 30s 26us/sample - loss: 1.9209 - mse: 1.9209 - val_loss: 1.6613 - val_mse: 1.6613\n",
            "Epoch 7/10\n",
            "1146880/1147740 [============================>.] - ETA: 0s - loss: 1.9191 - mse: 1.9191\n",
            "Epoch 00007: val_loss did not improve from 1.65992\n",
            "1147740/1147740 [==============================] - 30s 26us/sample - loss: 1.9202 - mse: 1.9202 - val_loss: 1.6611 - val_mse: 1.6611\n",
            "Epoch 8/10\n",
            "1145856/1147740 [============================>.] - ETA: 0s - loss: 1.9206 - mse: 1.9206\n",
            "Epoch 00008: val_loss did not improve from 1.65992\n",
            "1147740/1147740 [==============================] - 30s 26us/sample - loss: 1.9203 - mse: 1.9203 - val_loss: 1.6607 - val_mse: 1.6607\n",
            "Epoch 9/10\n",
            "1145856/1147740 [============================>.] - ETA: 0s - loss: 1.9200 - mse: 1.9200\n",
            "Epoch 00009: val_loss did not improve from 1.65992\n",
            "1147740/1147740 [==============================] - 30s 26us/sample - loss: 1.9200 - mse: 1.9200 - val_loss: 1.6606 - val_mse: 1.6606\n",
            "Epoch 10/10\n",
            "1145856/1147740 [============================>.] - ETA: 0s - loss: 1.9200 - mse: 1.9200\n",
            "Epoch 00010: val_loss did not improve from 1.65992\n",
            "1147740/1147740 [==============================] - 30s 26us/sample - loss: 1.9197 - mse: 1.9197 - val_loss: 1.6606 - val_mse: 1.6606\n"
          ],
          "name": "stdout"
        }
      ]
    },
    {
      "cell_type": "markdown",
      "metadata": {
        "id": "flM71KL-q9wI",
        "colab_type": "text"
      },
      "source": [
        "Plot the losses and MSE of the training and validation as before"
      ]
    },
    {
      "cell_type": "code",
      "metadata": {
        "id": "JFwZSusrHe9a",
        "colab_type": "code",
        "outputId": "4b1e72eb-5604-4150-fa90-b414778dfb3c",
        "colab": {
          "base_uri": "https://localhost:8080/",
          "height": 34
        }
      },
      "source": [
        "history_ff_dropout.history.keys()"
      ],
      "execution_count": 0,
      "outputs": [
        {
          "output_type": "execute_result",
          "data": {
            "text/plain": [
              "dict_keys(['loss', 'mse', 'val_loss', 'val_mse', 'lr'])"
            ]
          },
          "metadata": {
            "tags": []
          },
          "execution_count": 44
        }
      ]
    },
    {
      "cell_type": "code",
      "metadata": {
        "colab_type": "code",
        "id": "sAIRXOxTEcox",
        "outputId": "bb22db97-9798-4dcf-e23e-7772a0c74fc5",
        "colab": {
          "base_uri": "https://localhost:8080/",
          "height": 573
        }
      },
      "source": [
        "train_loss_drop = history_ff_dropout.history['loss']\n",
        "train_mse_drop = history_ff_dropout.history['mse']\n",
        "val_loss_drop = history_ff_dropout.history['val_loss']\n",
        "val_mse_drop = history_ff_dropout.history['val_mse']\n",
        "\n",
        "plt.plot(train_loss_drop)\n",
        "plt.title('train loss (MSE)')\n",
        "plt.ylabel('loss')\n",
        "plt.xlabel('epoch')\n",
        "plt.show()\n",
        "plt.plot(val_loss_drop)\n",
        "plt.title('validation loss (MSE)')\n",
        "plt.ylabel('loss')\n",
        "plt.xlabel('epoch')\n",
        "plt.show()"
      ],
      "execution_count": 0,
      "outputs": [
        {
          "output_type": "display_data",
          "data": {
            "image/png": "[encoded data removed]",
            "text/plain": [
              "<Figure size 432x288 with 1 Axes>"
            ]
          },
          "metadata": {
            "tags": []
          }
        },
        {
          "output_type": "display_data",
          "data": {
            "image/png": "[encoded data removed]",
            "text/plain": [
              "<Figure size 432x288 with 1 Axes>"
            ]
          },
          "metadata": {
            "tags": []
          }
        }
      ]
    },
    {
      "cell_type": "code",
      "metadata": {
        "id": "oDeWFRrxFKvY",
        "colab_type": "code",
        "colab": {}
      },
      "source": [
        "################################################################################\n",
        "# TODO#6:                                                                      #\n",
        "# Complete the code to evaluate your dropout model                             #\n",
        "################################################################################\n",
        "#                            WRITE YOUR CODE BELOW                             #\n",
        "################################################################################\n",
        "def evaluate_dropout(features, labels, model):\n",
        "    \"\"\"\n",
        "    Evaluate model on validation data\n",
        "    \"\"\"\n",
        "    ## enter code below\n",
        "    mse = model.evaluate(x=features, y=labels, verbose=0, batch_size=1024)[1]\n",
        "    \n",
        "    return mse"
      ],
      "execution_count": 0,
      "outputs": []
    },
    {
      "cell_type": "code",
      "metadata": {
        "id": "JYJcKIDEon2c",
        "colab_type": "code",
        "outputId": "fbc94710-4688-47b0-a748-a808e3913bac",
        "colab": {
          "base_uri": "https://localhost:8080/",
          "height": 67
        }
      },
      "source": [
        "print('FF-dropout-model')\n",
        "print('train', evaluate(x_train_ff, y_train_ff, model_ff_dropout))\n",
        "print('validate', evaluate(x_val_ff, y_val_ff, model_ff_dropout))"
      ],
      "execution_count": 0,
      "outputs": [
        {
          "output_type": "stream",
          "text": [
            "FF-dropout-model\n",
            "train 1.9194759\n",
            "validate 1.660627\n"
          ],
          "name": "stdout"
        }
      ]
    },
    {
      "cell_type": "markdown",
      "metadata": {
        "id": "nJFdUpD8FKvc",
        "colab_type": "text"
      },
      "source": [
        "# Convolution Neural Networks\n",
        "Now, you are going to implement you own 2d-convolution neural networks with the following structure.\n",
        "```\n",
        "_________________________________________________________________\n",
        "Layer (type)                 Output Shape              Param\n",
        "=================================================================\n",
        "input_1 (InputLayer)         (None, 5, 5, 3)           0         \n",
        "_________________________________________________________________\n",
        "conv2d_1 (Conv2D)            (None, 3, 3, 200)         5600      \n",
        "_________________________________________________________________\n",
        "flatten_1 (Flatten)          (None, 1800)              0         \n",
        "_________________________________________________________________\n",
        "dense_1 (Dense)              (None, 200)               360200    \n",
        "_________________________________________________________________\n",
        "dense_2 (Dense)              (None, 200)               40200     \n",
        "_________________________________________________________________\n",
        "dense_3 (Dense)              (None, 1)                 201       \n",
        "=================================================================\n",
        "Total params: 406,201\n",
        "Trainable params: 406,201\n",
        "Non-trainable params: 0\n",
        "_________________________________________________________________\n",
        "```\n",
        "These parameters are simple guidelines to save your time.    \n",
        "You can play with them in the final section which you can choose any normalization methods, activation function, as well as any hyperparameter the way you want.         \n",
        "\n",
        "Hint: You should read keras documentation to see the list of available layers and options you can use.                         "
      ]
    },
    {
      "cell_type": "code",
      "metadata": {
        "id": "YzH0DiH_XzOR",
        "colab_type": "code",
        "colab": {}
      },
      "source": [
        "K.clear_session()"
      ],
      "execution_count": 0,
      "outputs": []
    },
    {
      "cell_type": "code",
      "metadata": {
        "id": "U6vLD-bdFKvc",
        "colab_type": "code",
        "outputId": "e218e26e-9ffe-4bf7-b780-bc89a851b3d8",
        "colab": {
          "base_uri": "https://localhost:8080/",
          "height": 34
        }
      },
      "source": [
        "################################################################################\n",
        "# TODO#7:                                                                     #\n",
        "# Complete the code for preparing data for training CNN                        #\n",
        "# Input for CNN should not have time step.                                     #\n",
        "################################################################################\n",
        "#                            WRITE YOUR CODE BELOW                             #\n",
        "################################################################################\n",
        "from tensorflow.keras.layers import Conv2D, MaxPooling2D,Flatten\n",
        "def preprocess_for_cnn(x_train, y_train, x_val, y_val):\n",
        "    # Enter code below\n",
        "    \n",
        "    x_train_cnn = x_train.reshape((-1, 5,5,3))\n",
        "    y_train_cnn = y_train.reshape((-1, 1))\n",
        "    x_val_cnn = x_val.reshape((-1, 5,5,3))\n",
        "    y_val_cnn = y_val.reshape((-1, 1))\n",
        "#     x_scaler = normalizer_std(x_train_cnn)\n",
        "#     x_train_cnn = x_scaler.transform(x_train_cnn)\n",
        "#     x_val_cnn = x_scaler.transform(x_val_cnn)\n",
        "    \n",
        "\n",
        "    return x_train_cnn,y_train_cnn,x_val_cnn,y_val_cnn\n",
        "  \n",
        "x_train_cnn,y_train_cnn,x_val_cnn,y_val_cnn = preprocess_for_cnn(x_train, y_train, x_val, y_val) \n",
        "print(x_train_cnn.shape, y_train_cnn.shape, x_val_cnn.shape, y_val_cnn.shape)"
      ],
      "execution_count": 0,
      "outputs": [
        {
          "output_type": "stream",
          "text": [
            "(1147740, 5, 5, 3) (1147740, 1) (464195, 5, 5, 3) (464195, 1)\n"
          ],
          "name": "stdout"
        }
      ]
    },
    {
      "cell_type": "code",
      "metadata": {
        "id": "v1kmlOtfFKvg",
        "colab_type": "code",
        "colab": {}
      },
      "source": [
        "################################################################################\n",
        "# TODO#8:                                                                     #\n",
        "# Write a function that returns keras convolution nueral network model.        #\n",
        "################################################################################\n",
        "#                            WRITE YOUR CODE BELOW                             #\n",
        "################################################################################\n",
        "def get_conv2d_nn():\n",
        "    # Enter code below\n",
        "    input1 = Input(shape=(5,5,3,))\n",
        "    x = Conv2D(200,kernel_size=3, activation='relu')(input1)\n",
        "    x = Flatten()(x)\n",
        "    x = Dense(200, activation='relu')(x)    \n",
        "    x = Dense(200, activation='relu')(x)\n",
        "    out = Dense(1)(x)\n",
        "\n",
        "    model = Model(inputs=input1, outputs=out)\n",
        "    model.compile(optimizer=Adam(0.01),\n",
        "                loss='mse',\n",
        "                metrics=['mse'])\n",
        "    \n",
        "    return model"
      ],
      "execution_count": 0,
      "outputs": []
    },
    {
      "cell_type": "code",
      "metadata": {
        "id": "2-bDQL3FFKvj",
        "colab_type": "code",
        "outputId": "41d53fc2-33d7-43ba-b1bd-fe47afe95594",
        "colab": {
          "base_uri": "https://localhost:8080/",
          "height": 756
        }
      },
      "source": [
        "################################################################################\n",
        "# TODO#9:                                                                     #\n",
        "# Write code that call model.fit, or model.fit_generator if you have data      #\n",
        "# generator, to train you models. Make sure you have validation_data as an     # \n",
        "# argument and use verbose=2 to generate one log line per epoch. Select your   #\n",
        "# batch size carefully as it will affect your model's ability to converge and  #\n",
        "# time needed for one epoch.                                                   #\n",
        "#                                                                              #\n",
        "# Hint: Read about callbacks_list argument on the documentation. You might     #\n",
        "# find  ReduceLROnPlateau() and ModelCheckpoint() useful for your training     #\n",
        "# process. Feel free to use any other callback function available.             #\n",
        "################################################################################\n",
        "\n",
        "print('start training conv2d')\n",
        "model_cnn = get_conv2d_nn()\n",
        "################################################################################\n",
        "#                            WRITE YOUR CODE BELOW                             #\n",
        "################################################################################\n",
        "# Path to save model parameters\n",
        "weight_path_model_cnn ='model_cnn_nn.h5'\n",
        "# Path to write tensorboard\n",
        "tensorboard_path_model_cnn = 'Graphs/cnn_nn'\n",
        "\n",
        "callbacks_list_model_cnn_nn = [\n",
        "    TensorBoard(log_dir=tensorboard_path_model_cnn, histogram_freq=1, write_graph=True, write_grads=True),\n",
        "    ModelCheckpoint(\n",
        "            weight_path_model_cnn,\n",
        "            save_best_only=True,\n",
        "            save_weights_only=True,\n",
        "            monitor='val_loss',\n",
        "            mode='min',\n",
        "            verbose=1\n",
        "        ),\n",
        "    ReduceLROnPlateau(monitor='val_loss', factor=0.2, patience=2, min_lr=0.0001)\n",
        "]\n",
        "\n",
        "verbose = 1\n",
        "epochs, batch_size = [10,1024]\n",
        "print(x_val_cnn.shape, y_val_cnn.shape)\n",
        "history_cnn = model_cnn.fit(x_train_cnn, y_train_cnn, epochs=epochs, batch_size=batch_size, verbose=verbose,\n",
        "                callbacks=callbacks_list_model_cnn_nn, validation_data=(x_val_cnn, y_val_cnn))"
      ],
      "execution_count": 0,
      "outputs": [
        {
          "output_type": "stream",
          "text": [
            "start training conv2d\n",
            "WARNING:tensorflow:`write_grads` will be ignored in TensorFlow 2.0 for the `TensorBoard` Callback.\n",
            "(464195, 5, 5, 3) (464195, 1)\n",
            "Train on 1147740 samples, validate on 464195 samples\n",
            "Epoch 1/10\n",
            "1146880/1147740 [============================>.] - ETA: 0s - loss: 10716.8271 - mse: 10716.8193\n",
            "Epoch 00001: val_loss improved from inf to 1.71191, saving model to model_cnn_nn.h5\n",
            "1147740/1147740 [==============================] - 93s 81us/sample - loss: 10708.7990 - mse: 10708.7910 - val_loss: 1.7119 - val_mse: 1.7119\n",
            "Epoch 2/10\n",
            "1146880/1147740 [============================>.] - ETA: 0s - loss: 1.9867 - mse: 1.9867\n",
            "Epoch 00002: val_loss did not improve from 1.71191\n",
            "1147740/1147740 [==============================] - 92s 80us/sample - loss: 1.9863 - mse: 1.9863 - val_loss: 1.8382 - val_mse: 1.8382\n",
            "Epoch 3/10\n",
            "1146880/1147740 [============================>.] - ETA: 0s - loss: 1.9720 - mse: 1.9720\n",
            "Epoch 00003: val_loss improved from 1.71191 to 1.66518, saving model to model_cnn_nn.h5\n",
            "1147740/1147740 [==============================] - 93s 81us/sample - loss: 1.9717 - mse: 1.9717 - val_loss: 1.6652 - val_mse: 1.6652\n",
            "Epoch 4/10\n",
            "1146880/1147740 [============================>.] - ETA: 0s - loss: 1.9978 - mse: 1.9978\n",
            "Epoch 00004: val_loss improved from 1.66518 to 1.66388, saving model to model_cnn_nn.h5\n",
            "1147740/1147740 [==============================] - 93s 81us/sample - loss: 1.9975 - mse: 1.9975 - val_loss: 1.6639 - val_mse: 1.6639\n",
            "Epoch 5/10\n",
            "1146880/1147740 [============================>.] - ETA: 0s - loss: 1.9242 - mse: 1.9242\n",
            "Epoch 00005: val_loss improved from 1.66388 to 1.66321, saving model to model_cnn_nn.h5\n",
            "1147740/1147740 [==============================] - 94s 82us/sample - loss: 1.9235 - mse: 1.9235 - val_loss: 1.6632 - val_mse: 1.6632\n",
            "Epoch 6/10\n",
            "1146880/1147740 [============================>.] - ETA: 0s - loss: 1.9236 - mse: 1.9236\n",
            "Epoch 00006: val_loss did not improve from 1.66321\n",
            "1147740/1147740 [==============================] - 94s 82us/sample - loss: 1.9235 - mse: 1.9235 - val_loss: 1.6635 - val_mse: 1.6635\n",
            "Epoch 7/10\n",
            "1146880/1147740 [============================>.] - ETA: 0s - loss: 1.9222 - mse: 1.9222\n",
            "Epoch 00007: val_loss did not improve from 1.66321\n",
            "1147740/1147740 [==============================] - 93s 81us/sample - loss: 1.9235 - mse: 1.9235 - val_loss: 1.6635 - val_mse: 1.6635\n",
            "Epoch 8/10\n",
            "1146880/1147740 [============================>.] - ETA: 0s - loss: 1.9211 - mse: 1.9211\n",
            "Epoch 00008: val_loss did not improve from 1.66321\n",
            "1147740/1147740 [==============================] - 94s 82us/sample - loss: 1.9234 - mse: 1.9234 - val_loss: 1.6635 - val_mse: 1.6635\n",
            "Epoch 9/10\n",
            "1146880/1147740 [============================>.] - ETA: 0s - loss: 1.9239 - mse: 1.9239\n",
            "Epoch 00009: val_loss did not improve from 1.66321\n",
            "1147740/1147740 [==============================] - 93s 81us/sample - loss: 1.9234 - mse: 1.9234 - val_loss: 1.6637 - val_mse: 1.6637\n",
            "Epoch 10/10\n",
            "1146880/1147740 [============================>.] - ETA: 0s - loss: 1.9222 - mse: 1.9222\n",
            "Epoch 00010: val_loss did not improve from 1.66321\n",
            "1147740/1147740 [==============================] - 94s 82us/sample - loss: 1.9234 - mse: 1.9234 - val_loss: 1.6635 - val_mse: 1.6635\n"
          ],
          "name": "stdout"
        }
      ]
    },
    {
      "cell_type": "code",
      "metadata": {
        "colab_type": "code",
        "id": "6FcmyjxLPrxG",
        "outputId": "18d1af75-f30b-4f6d-ee69-9764fa1b40d0",
        "colab": {
          "base_uri": "https://localhost:8080/",
          "height": 573
        }
      },
      "source": [
        "history_cnn.history.keys()\n",
        "train_loss_cnn = history_cnn.history['loss']\n",
        "train_mse_cnn = history_cnn.history['mse']\n",
        "val_loss_cnn = history_cnn.history['val_loss']\n",
        "val_mse_cnn = history_cnn.history['val_mse']\n",
        "\n",
        "plt.plot(train_loss_cnn)\n",
        "plt.title('train loss (MSE)')\n",
        "plt.ylabel('loss')\n",
        "plt.xlabel('epoch')\n",
        "plt.show()\n",
        "plt.plot(val_loss_cnn)\n",
        "plt.title('validation loss (MSE)')\n",
        "plt.ylabel('loss')\n",
        "plt.xlabel('epoch')\n",
        "plt.show()"
      ],
      "execution_count": 0,
      "outputs": [
        {
          "output_type": "display_data",
          "data": {
            "image/png": "[encoded data removed]",
            "text/plain": [
              "<Figure size 432x288 with 1 Axes>"
            ]
          },
          "metadata": {
            "tags": []
          }
        },
        {
          "output_type": "display_data",
          "data": {
            "image/png": "[encoded data removed]",
            "text/plain": [
              "<Figure size 432x288 with 1 Axes>"
            ]
          },
          "metadata": {
            "tags": []
          }
        }
      ]
    },
    {
      "cell_type": "code",
      "metadata": {
        "id": "rbt8pJIQFKvl",
        "colab_type": "code",
        "outputId": "c22ac42a-71ea-4df6-b792-b10111ae4684",
        "colab": {
          "base_uri": "https://localhost:8080/",
          "height": 67
        }
      },
      "source": [
        "print('CNN-model')\n",
        "print('train', evaluate(x_train_cnn, y_train_cnn, model_cnn))\n",
        "print('validate', evaluate(x_val_cnn, y_val_cnn, model_cnn))"
      ],
      "execution_count": 0,
      "outputs": [
        {
          "output_type": "stream",
          "text": [
            "CNN-model\n",
            "train 1.9234147\n",
            "validate 1.6634924\n"
          ],
          "name": "stdout"
        }
      ]
    },
    {
      "cell_type": "markdown",
      "metadata": {
        "id": "WEARLiH0FKvo",
        "colab_type": "text"
      },
      "source": [
        "# Gated Recurrent Units\n",
        "\n",
        "Now, you are going to implement you own GRU network with the following structure.\n",
        "```\n",
        "_________________________________________________________________\n",
        "Layer (type)                 Output Shape              Param #   \n",
        "=================================================================\n",
        "input_1 (InputLayer)         (None, 5, 75)             0         \n",
        "_________________________________________________________________\n",
        "gru_1 (GRU)                  (None, 5, 200)            165600    \n",
        "_________________________________________________________________\n",
        "time_distributed_1 (TimeDist (None, 5, 200)            40200     \n",
        "_________________________________________________________________\n",
        "time_distributed_2 (TimeDist (None, 5, 1)              201       \n",
        "_________________________________________________________________\n",
        "flatten_1 (Flatten)          (None, 5)                 0         \n",
        "=================================================================\n",
        "Total params: 206,001\n",
        "Trainable params: 206,001\n",
        "Non-trainable params: 0\n",
        "_________________________________________________________________\n",
        "```\n",
        "\n",
        "\n",
        "These parameters are simple guidelines to save your time.    \n",
        "You can play with them in the final section which you can choose any normalization methods, activation function, as well as any hyperparameter the way you want.         \n",
        "The result should be better than the feedforward model and at least on par with your CNN model.    \n",
        "\n",
        "Do consult keras documentation on how to use [GRUs](https://keras.io/layers/recurrent/).\n"
      ]
    },
    {
      "cell_type": "code",
      "metadata": {
        "id": "hbkrNFIQX0ZW",
        "colab_type": "code",
        "colab": {}
      },
      "source": [
        "K.clear_session()"
      ],
      "execution_count": 0,
      "outputs": []
    },
    {
      "cell_type": "code",
      "metadata": {
        "id": "q53iJttkFKvo",
        "colab_type": "code",
        "outputId": "21723eb0-4486-469c-8a54-c3a24a386570",
        "colab": {
          "base_uri": "https://localhost:8080/",
          "height": 34
        }
      },
      "source": [
        "################################################################################\n",
        "# TODO#10:                                                                     #\n",
        "# Complete the code for preparing data for training GRU                        #\n",
        "# GRU's input should has 3 dimensions.                                         #\n",
        "# The dimensions should compose of entries, time-step, and features.          #\n",
        "################################################################################\n",
        "#                            WRITE YOUR CODE BELOW                             #\n",
        "################################################################################\n",
        "from tensorflow.keras.layers import GRU,TimeDistributed\n",
        "\n",
        "def preprocess_for_gru(x_train, y_train, x_val, y_val):\n",
        "    # Enter code below\n",
        "    x_train_gru = x_train.reshape((-1, 5,75))\n",
        "    y_train_gru = y_train.reshape((-1, 5))\n",
        "    x_val_gru = x_val.reshape((-1, 5,75))\n",
        "    y_val_gru = y_val.reshape((-1, 5))\n",
        "    \n",
        "    \n",
        "    return x_train_gru, y_train_gru, x_val_gru, y_val_gru\n",
        "  \n",
        "x_train_gru, y_train_gru, x_val_gru, y_val_gru = preprocess_for_gru(x_train, y_train, x_val, y_val)\n",
        "print(x_train_gru.shape, y_train_gru.shape, x_val_gru.shape, y_val_gru.shape)"
      ],
      "execution_count": 0,
      "outputs": [
        {
          "output_type": "stream",
          "text": [
            "(229548, 5, 75) (229548, 5) (92839, 5, 75) (92839, 5)\n"
          ],
          "name": "stdout"
        }
      ]
    },
    {
      "cell_type": "code",
      "metadata": {
        "id": "Dk6hF98mFKvq",
        "colab_type": "code",
        "colab": {}
      },
      "source": [
        "################################################################################\n",
        "# TODO#11                                                                      #\n",
        "# Write a function that returns keras GRU network model.                       #\n",
        "# Your goal is to predict a precipitation of every time step.                  #\n",
        "#                                                                              #\n",
        "# Hint: You should read keras documentation to see the list of available       #\n",
        "# layers and options you can use.                                              #\n",
        "################################################################################\n",
        "#                            WRITE YOUR CODE BELOW                             #\n",
        "################################################################################\n",
        "\n",
        "def get_gru():\n",
        "    # Enter code below\n",
        "    input1 = Input(shape=(5,75,))\n",
        "    x = GRU(200, return_sequences=True)(input1)\n",
        "    x = TimeDistributed(Dense(200))(x)\n",
        "    x = TimeDistributed(Dense(1))(x)\n",
        "    out = Flatten()(x)\n",
        "\n",
        "    model = Model(inputs=input1, outputs=out)\n",
        "    model.compile(optimizer=Adam(0.01),\n",
        "                loss='mse',\n",
        "                metrics=['mse'])\n",
        "    \n",
        "    \n",
        "    return model"
      ],
      "execution_count": 0,
      "outputs": []
    },
    {
      "cell_type": "code",
      "metadata": {
        "id": "f02waLbMFKvx",
        "colab_type": "code",
        "outputId": "7aa3670a-f45d-4822-cabf-c7c75fb85e28",
        "colab": {
          "base_uri": "https://localhost:8080/",
          "height": 1000
        }
      },
      "source": [
        "################################################################################\n",
        "# TODO#12                                                                      #\n",
        "# Write code that call model.fit, or model.fit_generator if you have data      #\n",
        "# generator, to train you models. Make sure you have validation_data as an     # \n",
        "# argument and use verbose=2 to generate one log line per epoch. Select your   #\n",
        "# batch size carefully as it will affect your model's ability to converge and  #\n",
        "# time needed for one epoch.                                                   #\n",
        "#                                                                              #\n",
        "# Hint: Read about callbacks_list argument on the documentation. You might     #\n",
        "# find  ReduceLROnPlateau() and ModelCheckpoint() useful for your training     #\n",
        "# process. Feel free to use any other callback function available.             #\n",
        "################################################################################\n",
        "print('start training gru')\n",
        "model_gru = get_gru()\n",
        "################################################################################\n",
        "#                            WRITE YOUR CODE BELOW                             #\n",
        "################################################################################\n",
        "model_gru.summary()\n",
        "\n",
        "# Path to save model parameters\n",
        "weight_path_model_gru ='model_gru_nn.h5'\n",
        "# Path to write tensorboard\n",
        "tensorboard_path_model_gru = 'Graphs/gru_nn'\n",
        "\n",
        "callbacks_list_model_gru_nn = [\n",
        "    TensorBoard(log_dir=tensorboard_path_model_gru, histogram_freq=1, write_graph=True, write_grads=True),\n",
        "    ModelCheckpoint(\n",
        "            weight_path_model_gru,\n",
        "            save_best_only=True,\n",
        "            save_weights_only=True,\n",
        "            monitor='val_loss',\n",
        "            mode='min',\n",
        "            verbose=2\n",
        "        ),\n",
        "    ReduceLROnPlateau(monitor='val_loss', factor=0.2, patience=2, min_lr=0.0001)\n",
        "]\n",
        "\n",
        "verbose = 1\n",
        "epochs, batch_size = [10,1024]\n",
        "print(x_val_gru.shape, y_val_gru.shape)\n",
        "history_gru = model_gru.fit(x_train_gru, y_train_gru, epochs=epochs, batch_size=batch_size, verbose=verbose,\n",
        "                callbacks=callbacks_list_model_gru_nn, validation_data=(x_val_gru, y_val_gru))"
      ],
      "execution_count": 0,
      "outputs": [
        {
          "output_type": "stream",
          "text": [
            "start training gru\n",
            "Model: \"model_3\"\n",
            "_________________________________________________________________\n",
            "Layer (type)                 Output Shape              Param #   \n",
            "=================================================================\n",
            "input_6 (InputLayer)         [(None, 5, 75)]           0         \n",
            "_________________________________________________________________\n",
            "gru_5 (GRU)                  (None, 5, 200)            166200    \n",
            "_________________________________________________________________\n",
            "time_distributed_8 (TimeDist (None, 5, 200)            40200     \n",
            "_________________________________________________________________\n",
            "time_distributed_9 (TimeDist (None, 5, 1)              201       \n",
            "_________________________________________________________________\n",
            "flatten_3 (Flatten)          (None, 5)                 0         \n",
            "=================================================================\n",
            "Total params: 206,601\n",
            "Trainable params: 206,601\n",
            "Non-trainable params: 0\n",
            "_________________________________________________________________\n",
            "WARNING:tensorflow:`write_grads` will be ignored in TensorFlow 2.0 for the `TensorBoard` Callback.\n",
            "(92839, 5, 75) (92839, 5)\n",
            "Train on 229548 samples, validate on 92839 samples\n",
            "Epoch 1/10\n",
            "229376/229548 [============================>.] - ETA: 0s - loss: 5.1589 - mse: 5.1589\n",
            "Epoch 00001: val_loss improved from inf to 1.66336, saving model to model_gru_nn.h5\n",
            "229548/229548 [==============================] - 54s 233us/sample - loss: 5.1570 - mse: 5.1570 - val_loss: 1.6634 - val_mse: 1.6634\n",
            "Epoch 2/10\n",
            "229376/229548 [============================>.] - ETA: 0s - loss: 1.9241 - mse: 1.9241\n",
            "Epoch 00002: val_loss improved from 1.66336 to 1.66306, saving model to model_gru_nn.h5\n",
            "229548/229548 [==============================] - 51s 220us/sample - loss: 1.9238 - mse: 1.9238 - val_loss: 1.6631 - val_mse: 1.6631\n",
            "Epoch 3/10\n",
            "229376/229548 [============================>.] - ETA: 0s - loss: 1.9252 - mse: 1.9252\n",
            "Epoch 00003: val_loss improved from 1.66306 to 1.66267, saving model to model_gru_nn.h5\n",
            "229548/229548 [==============================] - 51s 221us/sample - loss: 1.9242 - mse: 1.9242 - val_loss: 1.6627 - val_mse: 1.6627\n",
            "Epoch 4/10\n",
            "229376/229548 [============================>.] - ETA: 0s - loss: 1.9231 - mse: 1.9231\n",
            "Epoch 00004: val_loss did not improve from 1.66267\n",
            "229548/229548 [==============================] - 51s 222us/sample - loss: 1.9244 - mse: 1.9244 - val_loss: 1.6644 - val_mse: 1.6644\n",
            "Epoch 5/10\n",
            "229376/229548 [============================>.] - ETA: 0s - loss: 1.9256 - mse: 1.9256\n",
            "Epoch 00005: val_loss did not improve from 1.66267\n",
            "229548/229548 [==============================] - 51s 222us/sample - loss: 1.9245 - mse: 1.9245 - val_loss: 1.6627 - val_mse: 1.6627\n",
            "Epoch 6/10\n",
            "229376/229548 [============================>.] - ETA: 0s - loss: 1.9214 - mse: 1.9214\n",
            "Epoch 00006: val_loss did not improve from 1.66267\n",
            "229548/229548 [==============================] - 51s 223us/sample - loss: 1.9235 - mse: 1.9235 - val_loss: 1.6658 - val_mse: 1.6658\n",
            "Epoch 7/10\n",
            "229376/229548 [============================>.] - ETA: 0s - loss: 1.9234 - mse: 1.9234\n",
            "Epoch 00007: val_loss did not improve from 1.66267\n",
            "229548/229548 [==============================] - 51s 223us/sample - loss: 1.9237 - mse: 1.9237 - val_loss: 1.6635 - val_mse: 1.6635\n",
            "Epoch 8/10\n",
            "229376/229548 [============================>.] - ETA: 0s - loss: 1.9247 - mse: 1.9247\n",
            "Epoch 00008: val_loss did not improve from 1.66267\n",
            "229548/229548 [==============================] - 51s 222us/sample - loss: 1.9234 - mse: 1.9234 - val_loss: 1.6638 - val_mse: 1.6638\n",
            "Epoch 9/10\n",
            "229376/229548 [============================>.] - ETA: 0s - loss: 1.9220 - mse: 1.9220\n",
            "Epoch 00009: val_loss did not improve from 1.66267\n",
            "229548/229548 [==============================] - 51s 223us/sample - loss: 1.9235 - mse: 1.9235 - val_loss: 1.6636 - val_mse: 1.6636\n",
            "Epoch 10/10\n",
            "229376/229548 [============================>.] - ETA: 0s - loss: 1.9220 - mse: 1.9220\n",
            "Epoch 00010: val_loss did not improve from 1.66267\n",
            "229548/229548 [==============================] - 51s 223us/sample - loss: 1.9234 - mse: 1.9234 - val_loss: 1.6637 - val_mse: 1.6637\n"
          ],
          "name": "stdout"
        }
      ]
    },
    {
      "cell_type": "code",
      "metadata": {
        "colab_type": "code",
        "id": "W2HzoOqpP2Tc",
        "outputId": "a5c83ffa-feea-417a-e33a-dc976edae973",
        "colab": {
          "base_uri": "https://localhost:8080/",
          "height": 573
        }
      },
      "source": [
        "history_gru.history.keys()\n",
        "train_loss_gru = history_gru.history['loss']\n",
        "train_mse_gru = history_gru.history['mse']\n",
        "val_loss_gru = history_gru.history['val_loss']\n",
        "val_mse_gru = history_gru.history['val_mse']\n",
        "\n",
        "plt.plot(train_loss_gru)\n",
        "plt.title('train loss (MSE)')\n",
        "plt.ylabel('loss')\n",
        "plt.xlabel('epoch')\n",
        "plt.show()\n",
        "plt.plot(val_loss_gru)\n",
        "plt.title('validation loss (MSE)')\n",
        "plt.ylabel('loss')\n",
        "plt.xlabel('epoch')\n",
        "plt.show()"
      ],
      "execution_count": 0,
      "outputs": [
        {
          "output_type": "display_data",
          "data": {
            "image/png": "[encoded data removed]",
            "text/plain": [
              "<Figure size 432x288 with 1 Axes>"
            ]
          },
          "metadata": {
            "tags": []
          }
        },
        {
          "output_type": "display_data",
          "data": {
            "image/png": "[encoded data removed]",
            "text/plain": [
              "<Figure size 432x288 with 1 Axes>"
            ]
          },
          "metadata": {
            "tags": []
          }
        }
      ]
    },
    {
      "cell_type": "code",
      "metadata": {
        "id": "M0Zbc4mIFKv0",
        "colab_type": "code",
        "outputId": "f46f5f6c-8993-4fff-e068-e6a69d3570e0",
        "colab": {
          "base_uri": "https://localhost:8080/",
          "height": 67
        }
      },
      "source": [
        "print('GRU-model')\n",
        "print('train', evaluate(x_train_gru, y_train_gru, model_gru))\n",
        "print('validate', evaluate(x_val_gru, y_val_gru, model_gru))"
      ],
      "execution_count": 0,
      "outputs": [
        {
          "output_type": "stream",
          "text": [
            "GRU-model\n",
            "train 1.923405\n",
            "validate 1.6636748\n"
          ],
          "name": "stdout"
        }
      ]
    },
    {
      "cell_type": "markdown",
      "metadata": {
        "id": "gkoGHlI8FKv5",
        "colab_type": "text"
      },
      "source": [
        "# Final Section\n",
        "# Keras playground\n",
        "\n",
        "Now, train the best model you can do for this task. You can use any model structure and function available.    \n",
        "Remember that trainig time increases with the complexity of the model. You might find TensorBoard helpful in tuning of complicated models.    \n",
        "Your model should be better than your CNN or GRU model in the previous sections.\n",
        "\n",
        "Some ideas:\n",
        "\n",
        "- Tune the hyperparameters\n",
        "- Adding dropouts\n",
        "- Combining CNN with GRUs\n",
        "\n",
        "You should tune your model on training and validation set.    \n",
        "**The test set should be used only for the last evaluation.**"
      ]
    },
    {
      "cell_type": "code",
      "metadata": {
        "id": "HIe5IeuFaVat",
        "colab_type": "code",
        "colab": {}
      },
      "source": [
        "K.clear_session()"
      ],
      "execution_count": 0,
      "outputs": []
    },
    {
      "cell_type": "code",
      "metadata": {
        "id": "woEvihyNgcCk",
        "colab_type": "code",
        "outputId": "36d43823-e548-47c5-ad78-89cc2de0b415",
        "colab": {
          "base_uri": "https://localhost:8080/",
          "height": 34
        }
      },
      "source": [
        "def preprocess_for_best(x_train, y_train, x_val, y_val):\n",
        "    # Enter code below\n",
        "    \n",
        "    x_train_best = x_train.reshape((-1,1))\n",
        "    x_val_best = x_val.reshape((-1,5))\n",
        "    x_scaler = normalizer_std(x_train_best)\n",
        "    x_train_best = x_scaler.transform(x_train_best)\n",
        "    x_val_best = x_scaler.transform(x_val_best)\n",
        "    \n",
        "    x_train_best = x_train.reshape((-1,5, 5,5,3))\n",
        "    y_train_best = y_train.reshape((-1, 5))\n",
        "    x_val_best = x_val.reshape((-1,5, 5,5,3))\n",
        "    y_val_best = y_val.reshape((-1, 5))\n",
        "    \n",
        "    \n",
        "    \n",
        "    return x_train_best, y_train_best, x_val_best, y_val_best\n",
        "  \n",
        "x_train_best, y_train_best, x_val_best, y_val_best = preprocess_for_best(x_train, y_train, x_val, y_val)\n",
        "print(x_train_best.shape, y_train_best.shape, x_val_best.shape, y_val_best.shape)"
      ],
      "execution_count": 0,
      "outputs": [
        {
          "output_type": "stream",
          "text": [
            "(229548, 5, 5, 5, 3) (229548, 5) (92839, 5, 5, 5, 3) (92839, 5)\n"
          ],
          "name": "stdout"
        }
      ]
    },
    {
      "cell_type": "code",
      "metadata": {
        "id": "5xULC0SYusG9",
        "colab_type": "code",
        "colab": {}
      },
      "source": [
        "from tensorflow.keras.layers import Reshape"
      ],
      "execution_count": 0,
      "outputs": []
    },
    {
      "cell_type": "code",
      "metadata": {
        "id": "2hibvTeKFKv5",
        "colab_type": "code",
        "colab": {}
      },
      "source": [
        "################################################################################\n",
        "# TODO#13                                                                       #\n",
        "# Write a function that returns keras your best model. You can use anything    #\n",
        "# you want. The goal here is to create the best model you can think of.        #\n",
        "#                                                                              #\n",
        "# Hint: You should read keras documentation to see the list of available       #\n",
        "# layers and options you can use.                                              #\n",
        "################################################################################\n",
        "#                            WRITE YOUR CODE BELOW                             #\n",
        "################################################################################\n",
        "\n",
        "def get_my_best_model():\n",
        "    # Enter code below\n",
        "    input1 = Input(shape=(5,5,5,3))\n",
        "    x = TimeDistributed(Conv2D(100, kernel_size=2, activation='relu'))(input1)\n",
        "    \n",
        "    x = TimeDistributed(Flatten())(x)\n",
        "    \n",
        "    x = GRU(55, return_sequences=True)(x)\n",
        "    \n",
        "    x = Dropout(0.3)(x)\n",
        "    \n",
        "    x = Dense(100, activation='relu')(x)\n",
        "    \n",
        "    x = Dropout(0.2)(x)\n",
        "    \n",
        "    x = Dense(1)(x)\n",
        "    \n",
        "    out = Flatten()(x)\n",
        "\n",
        "    model = Model(inputs=input1, outputs=out)\n",
        "    model.compile(optimizer=Adam(0.01),\n",
        "                loss='mse',\n",
        "                metrics=['mse'])\n",
        "    \n",
        "    \n",
        "    return model"
      ],
      "execution_count": 0,
      "outputs": []
    },
    {
      "cell_type": "code",
      "metadata": {
        "id": "yfNpynXlFKv8",
        "colab_type": "code",
        "outputId": "ec2000d4-72bd-4e73-a680-12bb24826633",
        "colab": {
          "base_uri": "https://localhost:8080/",
          "height": 1000
        }
      },
      "source": [
        "################################################################################\n",
        "# TODO#14                                                                       #\n",
        "# Write code that call model.fit, or model.fit_generator if you have data      #\n",
        "# generator, to train you models. Make sure you have validation_data as an     # \n",
        "# argument and use verbose=2 to generate one log line per epoch. Select your   #\n",
        "# batch size carefully as it will affect your model's ability to converge and  #\n",
        "# time needed for one epoch.                                                   #\n",
        "#                                                                              #\n",
        "# Hint: Read about callbacks_list argument on the documentation. You might     #\n",
        "# find  ReduceLROnPlateau() and ModelCheckpoint() useful for your training     #\n",
        "# process. Feel free to use any other callback function available.             #\n",
        "################################################################################\n",
        "print('start training the best model')\n",
        "model_best = get_my_best_model()\n",
        "################################################################################\n",
        "#                            WRITE YOUR CODE BELOW                             #\n",
        "################################################################################\n",
        "model_best.summary()\n",
        "\n",
        "# Path to save model parameters\n",
        "weight_path_model_best ='model_best_nn.h5'\n",
        "# Path to write tensorboard\n",
        "tensorboard_path_model_best = 'Graphs/best_nn'\n",
        "\n",
        "callbacks_list_model_best_nn = [\n",
        "    TensorBoard(log_dir=tensorboard_path_model_best, histogram_freq=1, write_graph=True, write_grads=True),\n",
        "    ModelCheckpoint(\n",
        "            weight_path_model_best,\n",
        "            save_best_only=True,\n",
        "            save_weights_only=True,\n",
        "            monitor='val_loss',\n",
        "            mode='min',\n",
        "            verbose=2\n",
        "        ),\n",
        "    ReduceLROnPlateau(monitor='val_loss', factor=0.2, patience=2, min_lr=0.0001)\n",
        "]\n",
        "\n",
        "verbose = 1\n",
        "epochs, batch_size = [10,1024]\n",
        "print(x_val_best.shape, y_val_best.shape)\n",
        "history_best = model_best.fit(x_train_best, y_train_best, epochs=epochs, batch_size=batch_size, verbose=verbose,\n",
        "                callbacks=callbacks_list_model_best_nn, validation_data=(x_val_best, y_val_best))"
      ],
      "execution_count": 0,
      "outputs": [
        {
          "output_type": "stream",
          "text": [
            "start training the best model\n",
            "Model: \"model\"\n",
            "_________________________________________________________________\n",
            "Layer (type)                 Output Shape              Param #   \n",
            "=================================================================\n",
            "input_1 (InputLayer)         [(None, 5, 5, 5, 3)]      0         \n",
            "_________________________________________________________________\n",
            "time_distributed (TimeDistri (None, 5, 4, 4, 100)      1300      \n",
            "_________________________________________________________________\n",
            "time_distributed_1 (TimeDist (None, 5, 1600)           0         \n",
            "_________________________________________________________________\n",
            "gru (GRU)                    (None, 5, 55)             273405    \n",
            "_________________________________________________________________\n",
            "dropout (Dropout)            (None, 5, 55)             0         \n",
            "_________________________________________________________________\n",
            "dense (Dense)                (None, 5, 100)            5600      \n",
            "_________________________________________________________________\n",
            "dropout_1 (Dropout)          (None, 5, 100)            0         \n",
            "_________________________________________________________________\n",
            "dense_1 (Dense)              (None, 5, 1)              101       \n",
            "_________________________________________________________________\n",
            "flatten_1 (Flatten)          (None, 5)                 0         \n",
            "=================================================================\n",
            "Total params: 280,406\n",
            "Trainable params: 280,406\n",
            "Non-trainable params: 0\n",
            "_________________________________________________________________\n",
            "WARNING:tensorflow:`write_grads` will be ignored in TensorFlow 2.0 for the `TensorBoard` Callback.\n",
            "(92839, 5, 5, 5, 3) (92839, 5)\n",
            "Train on 229548 samples, validate on 92839 samples\n",
            "Epoch 1/10\n",
            "229376/229548 [============================>.] - ETA: 0s - loss: 1.9768 - mse: 1.9768\n",
            "Epoch 00001: val_loss improved from inf to 1.66258, saving model to model_best_nn.h5\n",
            "229548/229548 [==============================] - 112s 487us/sample - loss: 1.9759 - mse: 1.9759 - val_loss: 1.6626 - val_mse: 1.6626\n",
            "Epoch 2/10\n",
            "229376/229548 [============================>.] - ETA: 0s - loss: 1.9249 - mse: 1.9249\n",
            "Epoch 00002: val_loss did not improve from 1.66258\n",
            "229548/229548 [==============================] - 110s 479us/sample - loss: 1.9244 - mse: 1.9244 - val_loss: 1.6627 - val_mse: 1.6627\n",
            "Epoch 3/10\n",
            "229376/229548 [============================>.] - ETA: 0s - loss: 1.9239 - mse: 1.9239\n",
            "Epoch 00003: val_loss did not improve from 1.66258\n",
            "229548/229548 [==============================] - 110s 478us/sample - loss: 1.9237 - mse: 1.9237 - val_loss: 1.6636 - val_mse: 1.6636\n",
            "Epoch 4/10\n",
            "229376/229548 [============================>.] - ETA: 0s - loss: 1.9244 - mse: 1.9244\n",
            "Epoch 00004: val_loss did not improve from 1.66258\n",
            "229548/229548 [==============================] - 110s 477us/sample - loss: 1.9236 - mse: 1.9236 - val_loss: 1.6633 - val_mse: 1.6633\n",
            "Epoch 5/10\n",
            "229376/229548 [============================>.] - ETA: 0s - loss: 1.9232 - mse: 1.9232\n",
            "Epoch 00005: val_loss did not improve from 1.66258\n",
            "229548/229548 [==============================] - 108s 473us/sample - loss: 1.9235 - mse: 1.9235 - val_loss: 1.6636 - val_mse: 1.6636\n",
            "Epoch 6/10\n",
            "229376/229548 [============================>.] - ETA: 0s - loss: 1.9233 - mse: 1.9233\n",
            "Epoch 00006: val_loss did not improve from 1.66258\n",
            "229548/229548 [==============================] - 108s 471us/sample - loss: 1.9235 - mse: 1.9235 - val_loss: 1.6636 - val_mse: 1.6636\n",
            "Epoch 7/10\n",
            "229376/229548 [============================>.] - ETA: 0s - loss: 1.9240 - mse: 1.9240\n",
            "Epoch 00007: val_loss did not improve from 1.66258\n",
            "229548/229548 [==============================] - 109s 473us/sample - loss: 1.9235 - mse: 1.9235 - val_loss: 1.6636 - val_mse: 1.6636\n",
            "Epoch 8/10\n",
            "229376/229548 [============================>.] - ETA: 0s - loss: 1.9240 - mse: 1.9240\n",
            "Epoch 00008: val_loss did not improve from 1.66258\n",
            "229548/229548 [==============================] - 109s 473us/sample - loss: 1.9235 - mse: 1.9235 - val_loss: 1.6636 - val_mse: 1.6636\n",
            "Epoch 9/10\n",
            "229376/229548 [============================>.] - ETA: 0s - loss: 1.9240 - mse: 1.9240\n",
            "Epoch 00009: val_loss did not improve from 1.66258\n",
            "229548/229548 [==============================] - 109s 473us/sample - loss: 1.9235 - mse: 1.9235 - val_loss: 1.6636 - val_mse: 1.6636\n",
            "Epoch 10/10\n",
            "229376/229548 [============================>.] - ETA: 0s - loss: 1.9237 - mse: 1.9237\n",
            "Epoch 00010: val_loss did not improve from 1.66258\n",
            "229548/229548 [==============================] - 109s 473us/sample - loss: 1.9235 - mse: 1.9235 - val_loss: 1.6636 - val_mse: 1.6636\n"
          ],
          "name": "stdout"
        }
      ]
    },
    {
      "cell_type": "code",
      "metadata": {
        "id": "ucDbxs-3FnHK",
        "colab_type": "code",
        "colab": {
          "base_uri": "https://localhost:8080/",
          "height": 67
        },
        "outputId": "eaa4a9a2-7f1a-4abe-91fc-99fda0bc60e3"
      },
      "source": [
        "print('best model')\n",
        "print('train',evaluate(x_train_best, y_train_best, model_best))\n",
        "print('validate',evaluate(x_val_best, y_val_best, model_best))\n"
      ],
      "execution_count": 288,
      "outputs": [
        {
          "output_type": "stream",
          "text": [
            "best model\n",
            "train 1.9234041\n",
            "validate 1.6637136\n"
          ],
          "name": "stdout"
        }
      ]
    },
    {
      "cell_type": "code",
      "metadata": {
        "id": "ralkkHQBBGm6",
        "colab_type": "code",
        "colab": {}
      },
      "source": [
        "# PREPARE TEST\n",
        "\n",
        "# best model\n",
        "def prepare_test_best(x_test, y_test):\n",
        "  x_scaler = normalizer_std(x_test.reshape(-1,1))\n",
        "  x_test_best = x_scaler.transform(x_test.reshape(-1,1))\n",
        "  x_test_best = x_test.reshape(-1,5,5,5,3)\n",
        "  y_test_best = y_test.reshape(-1,5)\n",
        "  return x_test_best, y_test_best\n",
        "\n",
        "# ff model\n",
        "def prepare_test_ff(x_test, y_test):\n",
        "  x_scaler = normalizer_std(x_test.reshape(-1,75))\n",
        "  x_test_ff = x_scaler.transform(x_test.reshape(-1,75))\n",
        "  y_test_ff = y_test.reshape(-1,1)\n",
        "  return x_test_ff, y_test_ff\n",
        "\n",
        "# cnn model\n",
        "def prepare_test_cnn(x_test, y_test):\n",
        "  x_scaler = normalizer_std(x_test.reshape(-1,1))\n",
        "  x_test_cnn = x_scaler.transform(x_test.reshape(-1,1))\n",
        "  x_test_cnn = x_test_cnn.reshape(-1,5,5,3)\n",
        "  y_test_cnn = y_test.reshape(-1,1)\n",
        "  return x_test_cnn, y_test_cnn\n",
        "\n",
        "# gru model\n",
        "def prepare_test_gru(x_test,y_test):\n",
        "  x_scaler = normalizer_std(x_test.reshape(-1,1))\n",
        "  x_test_gru = x_scaler.transform(x_test.reshape(-1,1))\n",
        "  x_test_gru = x_test_gru.reshape(-1,5,75)\n",
        "  y_test_gru = y_test.reshape(-1,5)\n",
        "  return x_test_gru, y_test_gru"
      ],
      "execution_count": 0,
      "outputs": []
    },
    {
      "cell_type": "code",
      "metadata": {
        "id": "tOVQ2zHkFKv-",
        "colab_type": "code",
        "outputId": "8944403a-1c09-4c9e-e54f-67cbdba0863e",
        "colab": {
          "base_uri": "https://localhost:8080/",
          "height": 84
        }
      },
      "source": [
        "test_best = prepare_test_best(x_test,y_test)\n",
        "test_ff = prepare_test_ff(x_test,y_test)\n",
        "test_cnn = prepare_test_cnn(x_test,y_test)\n",
        "test_gru = prepare_test_gru(x_test,y_test)\n",
        "print('test best',evaluate(test_best[0], test_best[1],model_best))\n",
        "print('test ff',evaluate(test_ff[0], test_ff[1], model_ff))\n",
        "print('test cnn',evaluate(test_cnn[0], test_cnn[1], model_cnn))\n",
        "print('test gru',evaluate(test_gru[0], test_gru[1], model_gru))"
      ],
      "execution_count": 301,
      "outputs": [
        {
          "output_type": "stream",
          "text": [
            "test best 1.1671538\n",
            "test ff 1.1647494\n",
            "test cnn 15729.34\n",
            "test gru 1.2065511\n"
          ],
          "name": "stdout"
        }
      ]
    },
    {
      "cell_type": "markdown",
      "metadata": {
        "id": "yHyzJulTFKwA",
        "colab_type": "text"
      },
      "source": [
        "To get full credit for this part, your best model should be better than the previous models on the **test set**. \n",
        "\n",
        "\n",
        "Explain what helped and what did not help here\n",
        "\n",
        "**Ans:**"
      ]
    }
  ]
}